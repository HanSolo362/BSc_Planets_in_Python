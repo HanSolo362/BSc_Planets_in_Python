{
 "cells": [
  {
   "cell_type": "markdown",
   "id": "0d1e24d8",
   "metadata": {},
   "source": [
    "Install/Import/Versions"
   ]
  },
  {
   "cell_type": "code",
   "execution_count": null,
   "id": "928826fc",
   "metadata": {},
   "outputs": [],
   "source": [
    "! python -m pip install lightkurve --upgrade"
   ]
  },
  {
   "cell_type": "code",
   "execution_count": null,
   "id": "62612cf7",
   "metadata": {},
   "outputs": [],
   "source": [
    "pip install astropy[recommended] --upgrade"
   ]
  },
  {
   "cell_type": "code",
   "execution_count": null,
   "id": "fe67412e",
   "metadata": {},
   "outputs": [],
   "source": [
    "import sys; print(\"Python\", sys.version)\n",
    "! python -c \"import lightkurve; print(lightkurve.__version__)\"\n",
    "import astropy\n",
    "astropy.__version__"
   ]
  },
  {
   "cell_type": "code",
   "execution_count": null,
   "id": "f03857de",
   "metadata": {},
   "outputs": [],
   "source": [
    "#Necessary to run\n",
    "import lightkurve as lk\n",
    "import numpy as np\n",
    "import matplotlib.pyplot as plt\n",
    "%matplotlib inline\n"
   ]
  },
  {
   "cell_type": "markdown",
   "id": "abd9c7c4",
   "metadata": {},
   "source": [
    "Lightcurve search/download"
   ]
  },
  {
   "cell_type": "code",
   "execution_count": null,
   "id": "e6d31826",
   "metadata": {},
   "outputs": [],
   "source": [
    "#Decide target\n",
    "##########################################################\n",
    "Star_name = ' '\n",
    "##########################################################\n",
    "\n",
    "search_lcf_refined = lk.search_lightcurve(Star_name, author=\"SPOC\", exptime=120)\n",
    "search_lcf_refined "
   ]
  },
  {
   "cell_type": "code",
   "execution_count": null,
   "id": "ea39147b",
   "metadata": {},
   "outputs": [],
   "source": [
    "#Show collections\n",
    "lcf = search_lcf_refined.download_all()\n",
    "lcf"
   ]
  },
  {
   "cell_type": "code",
   "execution_count": null,
   "id": "b3040ca2",
   "metadata": {},
   "outputs": [],
   "source": [
    "#Specific array\n",
    "lcf[5]"
   ]
  },
  {
   "cell_type": "code",
   "execution_count": null,
   "id": "0ef27591",
   "metadata": {},
   "outputs": [],
   "source": []
  },
  {
   "cell_type": "markdown",
   "id": "f0a68906",
   "metadata": {},
   "source": [
    "No. of arrays to merge"
   ]
  },
  {
   "cell_type": "code",
   "execution_count": null,
   "id": "3e350d39",
   "metadata": {},
   "outputs": [],
   "source": [
    "##only one array\n",
    "flat_lca = lcf[ ].flatten(window_length=1001)\n",
    "Merged_lc = flat_lca.remove_outliers(sigma=6)\n",
    "ab = Merged_lc.errorbar()\n",
    "ab.set_title(\"Merged Clipped & Flattened light curves of \" + str(Star_name));"
   ]
  },
  {
   "cell_type": "code",
   "execution_count": null,
   "id": "97c51728",
   "metadata": {},
   "outputs": [],
   "source": [
    "##only two arrays\n",
    "flat_lca = lcf[ ].flatten(window_length=1001)\n",
    "clipped_lca = flat_lca.remove_outliers(sigma=6)\n",
    "flat_lcb = lcf[ ].flatten(window_length=1001)\n",
    "clipped_lcb = flat_lcb.remove_outliers(sigma=6)\n",
    "\n",
    "Merged_lc = clipped_lca.normalize().append(clipped_lcb.normalize())\n",
    "ab = Merged_lc.errorbar()\n",
    "ab.set_title(\"Merged Clipped & Flattened light curves of \" + str(Star_name));"
   ]
  },
  {
   "cell_type": "code",
   "execution_count": null,
   "id": "a64b8812",
   "metadata": {},
   "outputs": [],
   "source": [
    "#####auto-merge for all lightcurves in collection#####################################################################\n",
    "for x in range(1,len(lcf)):\n",
    "    #lc of x-1\n",
    "    flat_lca = lcf[x-1].flatten(window_length=1001)\n",
    "    clipped_lca = flat_lca.remove_outliers(sigma=3)\n",
    "    #lc of x\n",
    "    flat_lcb = lcf[x].flatten(window_length=1001)\n",
    "    clipped_lcb = flat_lcb.remove_outliers(sigma=3)\n",
    "    if x==1:\n",
    "        Merged_lc = clipped_lca.normalize().append(clipped_lcb.normalize())\n",
    "    else:\n",
    "        Merged_lc = Merged_lc.normalize().append(clipped_lcb.normalize())\n",
    "        \n",
    "ab = Merged_lc.errorbar()\n",
    "ab.set_title(\"Merged Clipped & Flattened light curves of \" + str(Star_name));"
   ]
  },
  {
   "cell_type": "markdown",
   "id": "fa821afb",
   "metadata": {},
   "source": [
    "Finding Periods"
   ]
  },
  {
   "cell_type": "code",
   "execution_count": null,
   "id": "efb3117e",
   "metadata": {},
   "outputs": [],
   "source": [
    "#BLS periodogram\n",
    "# Create array of periods to search ###############\n",
    "period = np.linspace(1,  , 2000 )\n",
    "# Create a BLSPeriodogram\n",
    "bls = Merged_lc.to_periodogram(method='bls', period=period, frequency_factor=2000);\n",
    "bls.plot();"
   ]
  },
  {
   "cell_type": "code",
   "execution_count": null,
   "id": "b07010cd",
   "metadata": {},
   "outputs": [],
   "source": [
    "planet_x_period = bls.period_at_max_power\n",
    "planet_x_t0 = bls.transit_time_at_max_power\n",
    "planet_x_dur = bls.duration_at_max_power\n",
    "\n",
    "# print period\n",
    "planet_x_period"
   ]
  },
  {
   "cell_type": "code",
   "execution_count": null,
   "id": "39cbfeed",
   "metadata": {},
   "outputs": [],
   "source": [
    "#model of a transit from parameters\n",
    "planet_x_model = bls.get_transit_model(period=planet_x_period,transit_time=planet_x_t0,duration=planet_x_dur)\n",
    "\n",
    "#plot model and the phasefolded lightcurve\n",
    "ax = Merged_lc.fold(period=planet_x_period, epoch_time=planet_x_t0).scatter()\n",
    "planet_x_model.fold(planet_x_period, planet_x_t0).plot(ax=ax, c='r', lw=2)\n",
    "ax.set_xlim(-0.5,0.5);\n",
    "#ax.set_ylim(0.99,1.01);"
   ]
  },
  {
   "cell_type": "code",
   "execution_count": null,
   "id": "1fe6d83a",
   "metadata": {
    "scrolled": true
   },
   "outputs": [],
   "source": [
    "#get transit statistics\n",
    "stats = bls.compute_stats(planet_x_period,planet_x_dur, planet_x_t0)\n",
    "stats"
   ]
  },
  {
   "cell_type": "code",
   "execution_count": null,
   "id": "a66138c4",
   "metadata": {},
   "outputs": [],
   "source": [
    "#Non scatter fold\n",
    "folded_lc = Merged_lc.fold(period=planet_x_period, epoch_time=planet_x_t0)\n",
    "folded_lc.plot()\n",
    "plt.xlim(-2,2);\n",
    "#Binning to clean image\n",
    "import astropy.units as u\n",
    "#######################################################\n",
    "binned_lc = folded_lc.bin(time_bin_size=5*u.minute)\n",
    "#######################################################\n",
    "aax=binned_lc.errorbar()\n",
    "planet_x_model.fold(planet_x_period, planet_x_t0).plot(ax=aax, c='r', lw=2)\n",
    "plt.xlim(-0.5,0.5);"
   ]
  },
  {
   "cell_type": "markdown",
   "id": "fb41686c",
   "metadata": {},
   "source": [
    "Ratio of radii"
   ]
  },
  {
   "cell_type": "code",
   "execution_count": null,
   "id": "e6a2fb19",
   "metadata": {},
   "outputs": [],
   "source": [
    "##########################################################\n",
    "#depth of transit from stats\n",
    "δ = \n",
    "δ_err = \n",
    "##########################################################\n",
    "#Radius in units of Rsuns\n",
    "Rstar_wrtS = \n",
    "Rstar_wrtS_err = \n",
    "##########################################################\n",
    "#Constants\n",
    "Rsun = 6.963e8\n",
    "Rearth = 6371e3\n",
    "\n",
    "Rstar = Rstar_wrtS*(Rsun)\n",
    "frac_Rstar_err = Rstar_wrtS_err/Rstar_wrtS\n",
    "Rstar_err = (frac_Rstar_err)*(Rstar)\n",
    "\n",
    "sqrtδ = δ**0.5\n",
    "frac_sqrtδ_err = (0.5*(δ_err/δ))\n",
    "frac_Rplanet_err = (((frac_sqrtδ_err)**2)+((frac_Rstar_err)**2))**0.5\n",
    "Rplanet = (sqrtδ)*(Rstar)\n",
    "Rplanet_err = frac_Rplanet_err*Rplanet\n",
    "Rplanet_wrtE = Rplanet/(Rearth)\n",
    "Rplanet_wrtE_err = (Rplanet_err/Rplanet)*Rplanet_wrtE"
   ]
  },
  {
   "cell_type": "markdown",
   "id": "98ab8f32",
   "metadata": {},
   "source": [
    "Prob ROck"
   ]
  },
  {
   "cell_type": "code",
   "execution_count": null,
   "id": "0058aafc",
   "metadata": {},
   "outputs": [],
   "source": [
    "def probRock (Rp):\n",
    "    if Rp<= 1.5:\n",
    "        return 1\n",
    "    elif Rp > 1.5 and Rp < 2.5:\n",
    "        return (2.5-Rp)\n",
    "    else:\n",
    "        return 0"
   ]
  },
  {
   "cell_type": "markdown",
   "id": "d7de203d",
   "metadata": {},
   "source": [
    "Output"
   ]
  },
  {
   "cell_type": "code",
   "execution_count": null,
   "id": "032e6d46",
   "metadata": {},
   "outputs": [],
   "source": [
    "#Period\n",
    "print(\"depth=\",δ*1000000,\"ppm\")\n",
    "print(\"Duration=\",bls.duration_at_max_power)\n",
    "print(\"Period=\",'{:.3}'.format(planet_x_period))\n",
    "#Radius\n",
    "#round error to one sig fig and round radius accordingly\n",
    "import uncertainties\n",
    "Rp = uncertainties.ufloat(Rplanet, Rplanet_err)\n",
    "print(\"Rp=\",'{:.1u}'.format(Rp), \"m\")\n",
    "#compare to Earth\n",
    "Rp_wrtE = uncertainties.ufloat(Rplanet_wrtE, Rplanet_wrtE_err)\n",
    "print(\"Rp=\",'{:.1u}'.format(Rp_wrtE), \"Earth radii\")\n",
    "#Get probRock\n",
    "print(\"Pr(Rp)=\",probRock(Rplanet_wrtE))"
   ]
  },
  {
   "cell_type": "code",
   "execution_count": null,
   "id": "bbd6cad4",
   "metadata": {},
   "outputs": [],
   "source": []
  },
  {
   "cell_type": "code",
   "execution_count": null,
   "id": "cc881640",
   "metadata": {},
   "outputs": [],
   "source": []
  }
 ],
 "metadata": {
  "kernelspec": {
   "display_name": "Python 3 (ipykernel)",
   "language": "python",
   "name": "python3"
  },
  "language_info": {
   "codemirror_mode": {
    "name": "ipython",
    "version": 3
   },
   "file_extension": ".py",
   "mimetype": "text/x-python",
   "name": "python",
   "nbconvert_exporter": "python",
   "pygments_lexer": "ipython3",
   "version": "3.11.5"
  }
 },
 "nbformat": 4,
 "nbformat_minor": 5
}
